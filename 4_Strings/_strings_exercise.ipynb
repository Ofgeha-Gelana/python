{
 "cells": [
  {
   "cell_type": "markdown",
   "id": "9a565cfc-b510-4d60-af05-e263b4a0854a",
   "metadata": {},
   "source": [
    "1. Create 3 variables to store street, city and country, now create address variable to store entire address. Use two ways of creating this variable, one using + operator and the other using f-string. Now Print the address in such a way that the street, city and country prints in a separate line\n",
    "2. Create a variable to store the string \"Earth revolves around the sun\"\n",
    "   i. Print \"revolves\" using slice operator\n",
    "   ii. Print \"sun\" using negative index\n",
    "3. Create two variables to store how many fruits and vegetables you eat in a day. Now Print \"I eat x veggies and y fruits daily\" where x and y presents vegetables and fruits that you eat everyday. Use python f string for this.\n",
    "4. I have a string variable called s='maine 200 banana khaye'. This of course is a wrong statement, the correct statement is 'maine 10 samosa khaye'. Replace incorrect words in original strong with new ones and print the new string. Also try to do this in one line."
   ]
  },
  {
   "cell_type": "code",
   "execution_count": 4,
   "id": "09fd55e6-929d-41d1-819d-4c1e9434095d",
   "metadata": {},
   "outputs": [
    {
     "name": "stdout",
     "output_type": "stream",
     "text": [
      "my address is Bole, Addis Ababa ,Ethiopia\n",
      "Bole\n",
      "Addis Ababa\n",
      "Ethiopia\n"
     ]
    }
   ],
   "source": [
    "# 1 ANSWER\n",
    "\n",
    "street = \"Bole\"\n",
    "city = \"Addis Ababa\"\n",
    "country = \"Ethiopia\"\n",
    "\n",
    "\n",
    "address = f\"my address is {street}, {city} ,{country}\"\n",
    "print(address) # printing my address\n",
    "\n",
    "# To print in the separated lines\n",
    "print(f\"{street}\\n{city}\\n{country}\")\n"
   ]
  },
  {
   "cell_type": "code",
   "execution_count": 7,
   "id": "fa53462b-a355-4a16-8cec-c8e1a8c2c54b",
   "metadata": {},
   "outputs": [
    {
     "name": "stdout",
     "output_type": "stream",
     "text": [
      "revolves\n",
      "sun\n"
     ]
    }
   ],
   "source": [
    "# 2 ANSWER\n",
    "\n",
    "earth_rev = \"Earth revolves around the sun\" # creating variable\n",
    "print(earth_rev[6:14]) # print revolves using slice operator\n",
    "print(earth_rev[-3:]) # print sun using negative index "
   ]
  },
  {
   "cell_type": "code",
   "execution_count": 11,
   "id": "c4e7fab7-5473-4766-99c7-1eda0b610cfa",
   "metadata": {},
   "outputs": [
    {
     "name": "stdout",
     "output_type": "stream",
     "text": [
      "I eat 3 veggies and 2 fruits daily\n"
     ]
    }
   ],
   "source": [
    "# 3 ANSWER\n",
    "\n",
    "frui  = 2\n",
    "vegi = 3 \n",
    "print(f\"I eat {vegi} veggies and {frui} fruits daily\")"
   ]
  },
  {
   "cell_type": "code",
   "execution_count": 13,
   "id": "b48b10fe-69df-47de-b6c2-fb2ce901ff9b",
   "metadata": {},
   "outputs": [
    {
     "name": "stdout",
     "output_type": "stream",
     "text": [
      "maine 10 samosa khaye\n"
     ]
    }
   ],
   "source": [
    "# 4 ANSWER\n",
    "\n",
    "s='maine 200 banana khaye'\n",
    "print(s.replace(\"200\", \"10\").replace(\"banana\", \"samosa\"))"
   ]
  },
  {
   "cell_type": "code",
   "execution_count": null,
   "id": "e20c077c-b1d3-46cd-8a76-0421198c7de6",
   "metadata": {},
   "outputs": [],
   "source": []
  }
 ],
 "metadata": {
  "kernelspec": {
   "display_name": "Python 3 (ipykernel)",
   "language": "python",
   "name": "python3"
  },
  "language_info": {
   "codemirror_mode": {
    "name": "ipython",
    "version": 3
   },
   "file_extension": ".py",
   "mimetype": "text/x-python",
   "name": "python",
   "nbconvert_exporter": "python",
   "pygments_lexer": "ipython3",
   "version": "3.11.7"
  }
 },
 "nbformat": 4,
 "nbformat_minor": 5
}
