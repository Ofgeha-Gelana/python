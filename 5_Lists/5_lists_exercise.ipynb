{
 "cells": [
  {
   "cell_type": "code",
   "execution_count": 1,
   "id": "57a1708a-0539-40f1-b0c7-b67a53ade5fa",
   "metadata": {},
   "outputs": [
    {
     "name": "stdout",
     "output_type": "stream",
     "text": [
      "spent on february compare to january: 150\n",
      "Expense for first quarter: 7150\n",
      "if i spend 2000 in any month: False\n",
      "[2200, 2350, 2600, 2130, 2190, 1980]\n",
      "[2200, 2350, 2600, 1930, 2190, 1980]\n"
     ]
    }
   ],
   "source": [
    "# 1 ANSWER \n",
    "\n",
    "expense = [2200, 2350, 2600, 2130, 2190]\n",
    "\n",
    "# a answer\n",
    "spent_on_feb_cmp_tojan = expense[1] - expense[0] # comparing expense on february with january\n",
    "print(\"spent on february compare to january:\", spent_on_feb_cmp_tojan)\n",
    "\n",
    "# b answer\n",
    "sum = expense[0] + expense[1] + expense[2]\n",
    "print(\"Expense for first quarter:\", sum)\n",
    "\n",
    "# c answer\n",
    "print(\"if i spend 2000 in any month:\", 2000 in expense)\n",
    "\n",
    "# d answer\n",
    "expense.append(1980) # adding expense for june month\n",
    "\n",
    "# e answer\n",
    "print(expense)\n",
    "expense[3] = expense[3] - 200 # refunding $200 from april\n",
    "print(expense)"
   ]
  },
  {
   "cell_type": "code",
   "execution_count": 2,
   "id": "2b9c0d65-c355-43d3-bdc1-bad1acfec685",
   "metadata": {},
   "outputs": [
    {
     "name": "stdout",
     "output_type": "stream",
     "text": [
      "5\n",
      "['spider man', 'thor', 'hulk', 'iron man', 'captain america', 'black panther']\n",
      "['spider man', 'thor', 'hulk', 'black panther', 'iron man', 'captain america']\n",
      "['spider man', 'black panther', 'iron man', 'captain america']\n"
     ]
    },
    {
     "data": {
      "text/plain": [
       "['black panther', 'captain america', 'iron man', 'spider man']"
      ]
     },
     "execution_count": 2,
     "metadata": {},
     "output_type": "execute_result"
    }
   ],
   "source": [
    "# answer for nor 2\n",
    "heros=['spider man','thor','hulk','iron man','captain america']\n",
    "\n",
    "# a answer\n",
    "print(len(heros))\n",
    "\n",
    "# b answer\n",
    "heros.append(\"black panther\")\n",
    "print(heros)\n",
    "\n",
    "# c answer\n",
    "heros.remove(\"black panther\")\n",
    "heros.insert(3, \"black panther\")\n",
    "print(heros)\n",
    "\n",
    "# d answer\n",
    "heros.remove(\"thor\")\n",
    "heros.remove(\"hulk\")\n",
    "print(heros)\n",
    "\n",
    "# e answer\n",
    "sorted(heros)"
   ]
  }
 ],
 "metadata": {
  "kernelspec": {
   "display_name": "Python 3 (ipykernel)",
   "language": "python",
   "name": "python3"
  },
  "language_info": {
   "codemirror_mode": {
    "name": "ipython",
    "version": 3
   },
   "file_extension": ".py",
   "mimetype": "text/x-python",
   "name": "python",
   "nbconvert_exporter": "python",
   "pygments_lexer": "ipython3",
   "version": "3.11.7"
  }
 },
 "nbformat": 4,
 "nbformat_minor": 5
}
